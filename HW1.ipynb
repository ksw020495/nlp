{
 "cells": [
  {
   "cell_type": "code",
   "execution_count": 2,
   "id": "59b266da",
   "metadata": {},
   "outputs": [
    {
     "name": "stdout",
     "output_type": "stream",
     "text": [
      "Collecting ckiptaggerNote: you may need to restart the kernel to use updated packages.\n",
      "  Downloading ckiptagger-0.2.1-py3-none-any.whl (34 kB)\n",
      "Installing collected packages: ckiptagger\n",
      "Successfully installed ckiptagger-0.2.1\n",
      "\n"
     ]
    }
   ],
   "source": [
    "pip install ckiptagger"
   ]
  },
  {
   "cell_type": "code",
   "execution_count": null,
   "id": "64dce9af",
   "metadata": {},
   "outputs": [],
   "source": []
  }
 ],
 "metadata": {
  "kernelspec": {
   "display_name": "Python 3",
   "language": "python",
   "name": "python3"
  },
  "language_info": {
   "codemirror_mode": {
    "name": "ipython",
    "version": 3
   },
   "file_extension": ".py",
   "mimetype": "text/x-python",
   "name": "python",
   "nbconvert_exporter": "python",
   "pygments_lexer": "ipython3",
   "version": "3.8.8"
  }
 },
 "nbformat": 4,
 "nbformat_minor": 5
}
